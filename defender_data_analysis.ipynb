{
 "cells": [
  {
   "cell_type": "code",
   "execution_count": 1,
   "metadata": {},
   "outputs": [
    {
     "name": "stdout",
     "output_type": "stream",
     "text": [
      "Requirement already satisfied: pandas in ./.venv/lib/python3.12/site-packages (2.2.3)\n",
      "Requirement already satisfied: scikit-learn in ./.venv/lib/python3.12/site-packages (1.5.2)\n",
      "Requirement already satisfied: xgboost in ./.venv/lib/python3.12/site-packages (2.1.1)\n",
      "Requirement already satisfied: numpy>=1.26.0 in ./.venv/lib/python3.12/site-packages (from pandas) (2.1.2)\n",
      "Requirement already satisfied: python-dateutil>=2.8.2 in ./.venv/lib/python3.12/site-packages (from pandas) (2.9.0.post0)\n",
      "Requirement already satisfied: pytz>=2020.1 in ./.venv/lib/python3.12/site-packages (from pandas) (2024.2)\n",
      "Requirement already satisfied: tzdata>=2022.7 in ./.venv/lib/python3.12/site-packages (from pandas) (2024.2)\n",
      "Requirement already satisfied: scipy>=1.6.0 in ./.venv/lib/python3.12/site-packages (from scikit-learn) (1.14.1)\n",
      "Requirement already satisfied: joblib>=1.2.0 in ./.venv/lib/python3.12/site-packages (from scikit-learn) (1.4.2)\n",
      "Requirement already satisfied: threadpoolctl>=3.1.0 in ./.venv/lib/python3.12/site-packages (from scikit-learn) (3.5.0)\n",
      "Requirement already satisfied: six>=1.5 in ./.venv/lib/python3.12/site-packages (from python-dateutil>=2.8.2->pandas) (1.16.0)\n",
      "Note: you may need to restart the kernel to use updated packages.\n"
     ]
    }
   ],
   "source": [
    "pip install pandas scikit-learn xgboost"
   ]
  },
  {
   "cell_type": "code",
   "execution_count": 2,
   "metadata": {},
   "outputs": [],
   "source": [
    "import pandas as pd\n",
    "import numpy as np\n",
    "from sklearn.model_selection import train_test_split, cross_val_score\n",
    "from sklearn.ensemble import RandomForestRegressor\n",
    "from sklearn.metrics import mean_squared_error, mean_absolute_error\n",
    "import xgboost as xgb"
   ]
  },
  {
   "cell_type": "code",
   "execution_count": 3,
   "metadata": {},
   "outputs": [
    {
     "name": "stdout",
     "output_type": "stream",
     "text": [
      "         name      team opponent_team        date  was_home position  minutes  \\\n",
      "0  Nathan Aké  Man City      West Ham  2022-08-07     False       DC       90   \n",
      "1  Nathan Aké  Man City   Southampton  2022-10-08      True       DC       90   \n",
      "2  Nathan Aké  Man City     Liverpool  2022-10-16     False       DL       90   \n",
      "3  Nathan Aké  Man City      Brighton         NaN      True      NaN        0   \n",
      "4  Nathan Aké  Man City  Leeds United         NaN     False      NaN        0   \n",
      "\n",
      "   goals    xG  assists  ...  clean_sheet_probability  last_season_xG  \\\n",
      "0    0.0  0.01      0.0  ...                     1.00             0.0   \n",
      "1    0.0  0.00      0.0  ...                     1.00             0.0   \n",
      "2    0.0  0.00      0.0  ...                     0.67             0.0   \n",
      "3    NaN   NaN      NaN  ...                     0.67             0.0   \n",
      "4    NaN   NaN      NaN  ...                     0.67             0.0   \n",
      "\n",
      "   last_season_xA  last_season_expected_goals_conceded  \\\n",
      "0             0.0                                  0.0   \n",
      "1             0.0                                  0.0   \n",
      "2             0.0                                  0.0   \n",
      "3             0.0                                  0.0   \n",
      "4             0.0                                  0.0   \n",
      "\n",
      "   last_season_clean_sheet_probability  next_week_points  next_team  \\\n",
      "0                                  0.0               6.0   Man City   \n",
      "1                                  0.0               2.0   Man City   \n",
      "2                                  0.0               0.0   Man City   \n",
      "3                                  0.0               0.0   Man City   \n",
      "4                                  0.0               2.0   Man City   \n",
      "\n",
      "   next_was_home  next_opponent_team  next_week_fixture_difficulty  \n",
      "0           True         Southampton                         -3.23  \n",
      "1          False           Liverpool                          0.57  \n",
      "2           True            Brighton                         -2.10  \n",
      "3          False        Leeds United                         -0.19  \n",
      "4           True              Fulham                         -1.50  \n",
      "\n",
      "[5 rows x 33 columns]\n"
     ]
    }
   ],
   "source": [
    "# Load your dataset\n",
    "df = pd.read_csv('train_data/defender.csv')\n",
    "\n",
    "# Preview the data to ensure everything looks right\n",
    "print(df.head())\n",
    "\n",
    "# Check for any missing values and handle them (if any)\n",
    "df.fillna(0, inplace=True)  # Simple way to handle missing values"
   ]
  },
  {
   "cell_type": "code",
   "execution_count": 5,
   "metadata": {},
   "outputs": [],
   "source": [
    "# Define the feature columns you want to use for predictions\n",
    "features = [\n",
    "    'minutes','goals','xG','assists','xA','total_points','shots','key_passes','ict_index','bonus','clean_sheets','goals_conceded','expected_goals_conceded','clean_sheet_probability','last_season_expected_goals_conceded','last_season_clean_sheet_probability','starts','form','xG&A_form','minutes_per_game','last_season_xG','last_season_xA','next_week_fixture_difficulty'\n",
    "]\n",
    "\n",
    "# Define the target column (points scored in the next gameweek)\n",
    "target = 'next_week_points'\n",
    "\n",
    "# Split the dataset into features (X) and target (y)\n",
    "X = df[features]\n",
    "y = df[target]\n",
    "\n",
    "# Split the data into training and test sets\n",
    "X_train, X_test, y_train, y_test = train_test_split(X, y, test_size=0.2, random_state=42)"
   ]
  },
  {
   "cell_type": "code",
   "execution_count": 6,
   "metadata": {},
   "outputs": [
    {
     "name": "stdout",
     "output_type": "stream",
     "text": [
      "Random Forest MSE: 4.018280959351383\n",
      "Random Forest MAE: 1.1608421921959664\n"
     ]
    }
   ],
   "source": [
    "# Initialize and train the Random Forest model\n",
    "rf_model = RandomForestRegressor(n_estimators=100, random_state=42)\n",
    "rf_model.fit(X_train, y_train)\n",
    "\n",
    "# Make predictions on the test set\n",
    "rf_predictions = rf_model.predict(X_test)\n",
    "\n",
    "# Evaluate the model's performance\n",
    "rf_mse = mean_squared_error(y_test, rf_predictions)\n",
    "rf_mae = mean_absolute_error(y_test, rf_predictions)\n",
    "\n",
    "print(f\"Random Forest MSE: {rf_mse}\")\n",
    "print(f\"Random Forest MAE: {rf_mae}\")"
   ]
  },
  {
   "cell_type": "code",
   "execution_count": 7,
   "metadata": {},
   "outputs": [
    {
     "name": "stdout",
     "output_type": "stream",
     "text": [
      "XGBoost MSE: 3.833340567644946\n",
      "XGBoost MAE: 1.1255560030206777\n"
     ]
    }
   ],
   "source": [
    "# Initialize and train the XGBoost model\n",
    "xgb_model = xgb.XGBRegressor(n_estimators=100, learning_rate=0.1, max_depth=5, random_state=42)\n",
    "xgb_model.fit(X_train, y_train)\n",
    "\n",
    "# Make predictions on the test set\n",
    "xgb_predictions = xgb_model.predict(X_test)\n",
    "\n",
    "# Evaluate the model's performance\n",
    "xgb_mse = mean_squared_error(y_test, xgb_predictions)\n",
    "xgb_mae = mean_absolute_error(y_test, xgb_predictions)\n",
    "\n",
    "print(f\"XGBoost MSE: {xgb_mse}\")\n",
    "print(f\"XGBoost MAE: {xgb_mae}\")"
   ]
  },
  {
   "cell_type": "code",
   "execution_count": 8,
   "metadata": {},
   "outputs": [
    {
     "name": "stdout",
     "output_type": "stream",
     "text": [
      "                                feature  importance\n",
      "0                               minutes    0.191349\n",
      "22         next_week_fixture_difficulty    0.176194\n",
      "19                     minutes_per_game    0.126537\n",
      "8                             ict_index    0.065397\n",
      "17                                 form    0.065015\n",
      "13              clean_sheet_probability    0.059808\n",
      "12              expected_goals_conceded    0.059726\n",
      "18                            xG&A_form    0.047103\n",
      "5                          total_points    0.025939\n",
      "4                                    xA    0.025770\n",
      "2                                    xG    0.023583\n",
      "21                       last_season_xA    0.021182\n",
      "20                       last_season_xG    0.020776\n",
      "14  last_season_expected_goals_conceded    0.020746\n",
      "11                       goals_conceded    0.019044\n",
      "15  last_season_clean_sheet_probability    0.018187\n",
      "6                                 shots    0.009801\n",
      "7                            key_passes    0.008146\n",
      "9                                 bonus    0.006295\n",
      "16                               starts    0.003456\n",
      "10                         clean_sheets    0.003006\n",
      "3                               assists    0.001877\n",
      "1                                 goals    0.001063\n",
      "                                feature  importance\n",
      "0                               minutes    0.336620\n",
      "10                         clean_sheets    0.074069\n",
      "22         next_week_fixture_difficulty    0.069775\n",
      "19                     minutes_per_game    0.050680\n",
      "21                       last_season_xA    0.042595\n",
      "9                                 bonus    0.034676\n",
      "8                             ict_index    0.031565\n",
      "18                            xG&A_form    0.031167\n",
      "4                                    xA    0.030712\n",
      "13              clean_sheet_probability    0.030330\n",
      "7                            key_passes    0.028260\n",
      "20                       last_season_xG    0.027958\n",
      "17                                 form    0.026775\n",
      "12              expected_goals_conceded    0.026725\n",
      "5                          total_points    0.022599\n",
      "6                                 shots    0.021587\n",
      "11                       goals_conceded    0.020462\n",
      "15  last_season_clean_sheet_probability    0.020224\n",
      "2                                    xG    0.020083\n",
      "14  last_season_expected_goals_conceded    0.020015\n",
      "16                               starts    0.017622\n",
      "1                                 goals    0.011065\n",
      "3                               assists    0.004435\n"
     ]
    }
   ],
   "source": [
    "# Feature importance for Random Forest\n",
    "rf_feature_importance = rf_model.feature_importances_\n",
    "rf_importance_df = pd.DataFrame({\n",
    "    'feature': X_train.columns,\n",
    "    'importance': rf_feature_importance\n",
    "}).sort_values(by='importance', ascending=False)\n",
    "\n",
    "print(rf_importance_df)\n",
    "\n",
    "# Feature importance for XGBoost\n",
    "xgb_feature_importance = xgb_model.feature_importances_\n",
    "xgb_importance_df = pd.DataFrame({\n",
    "    'feature': X_train.columns,\n",
    "    'importance': xgb_feature_importance\n",
    "}).sort_values(by='importance', ascending=False)\n",
    "\n",
    "print(xgb_importance_df)"
   ]
  }
 ],
 "metadata": {
  "kernelspec": {
   "display_name": ".venv",
   "language": "python",
   "name": "python3"
  },
  "language_info": {
   "codemirror_mode": {
    "name": "ipython",
    "version": 3
   },
   "file_extension": ".py",
   "mimetype": "text/x-python",
   "name": "python",
   "nbconvert_exporter": "python",
   "pygments_lexer": "ipython3",
   "version": "3.12.1"
  }
 },
 "nbformat": 4,
 "nbformat_minor": 2
}
