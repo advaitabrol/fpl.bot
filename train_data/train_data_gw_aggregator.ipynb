{
 "cells": [
  {
   "cell_type": "code",
   "execution_count": 6,
   "metadata": {},
   "outputs": [
    {
     "name": "stdout",
     "output_type": "stream",
     "text": [
      "An error occurred while processing 2023-24 Gameweek 38: list index out of range\n"
     ]
    },
    {
     "name": "stderr",
     "output_type": "stream",
     "text": [
      "/var/folders/vz/717hjk_x7gd2h1zp14m7dtcm0000gn/T/ipykernel_72429/3462279436.py:65: FutureWarning: The behavior of DataFrame concatenation with empty or all-NA entries is deprecated. In a future version, this will no longer exclude empty or all-NA columns when determining the result dtypes. To retain the old behavior, exclude the relevant entries before the concat operation.\n",
      "  train_data_df = pd.concat(train_data, ignore_index=True)\n"
     ]
    },
    {
     "name": "stdout",
     "output_type": "stream",
     "text": [
      "Training data created successfully.\n"
     ]
    }
   ],
   "source": [
    "import pandas as pd\n",
    "import glob\n",
    "\n",
    "# Define seasons and the list to hold training data\n",
    "seasons = ['2021-22', '2022-23', '2023-24']\n",
    "train_data = []\n",
    "\n",
    "# Iterate through each season and its respective gameweeks\n",
    "for season in seasons:\n",
    "    for gw in range(1, 39):\n",
    "        try:\n",
    "            # Load current gameweek data\n",
    "            current_gw_file = f\"../gw_data/{season}/gw{gw}.csv\"  # Adjust the path as necessary\n",
    "            current_gw_df = pd.read_csv(current_gw_file)\n",
    "\n",
    "            # Select relevant fields\n",
    "            current_gw_df = current_gw_df[[\n",
    "                'name', 'position', 'team', 'assists', 'bonus', 'bps', \n",
    "                'clean_sheets', 'creativity', 'element', 'fixture', \n",
    "                'goals_conceded', 'goals_scored', 'ict_index', \n",
    "                'influence', 'minutes', 'own_goals', \n",
    "                'penalties_missed', 'penalties_saved', 'red_cards', \n",
    "                'saves', 'team_a_score', 'team_h_score', 'threat', \n",
    "                'was_home', 'yellow_cards'\n",
    "            ]]\n",
    "            \n",
    "            # Add season and gameweek columns\n",
    "            current_gw_df['season'] = season\n",
    "            current_gw_df['gameweek'] = gw\n",
    "            \n",
    "            # Identify next gameweek\n",
    "            next_gw = gw + 1\n",
    "\n",
    "            # Check if next gameweek exists in the current season or the next season\n",
    "            if next_gw <= 38:\n",
    "                next_gw_file = f\"../gw_data/{season}/gw{next_gw}.csv\"\n",
    "            elif next_gw == 39:  # If current gw is 38, link to next season's gw1\n",
    "                next_season = seasons[seasons.index(season) + 1]\n",
    "                next_gw_file = f\"../gw_data/{next_season}/gw1.csv\"\n",
    "            else:\n",
    "                continue  # Skip if no valid next gameweek\n",
    "\n",
    "            # Load next gameweek data\n",
    "            next_gw_df = pd.read_csv(next_gw_file)\n",
    "\n",
    "            # Merge to get total points from the next gameweek\n",
    "            current_gw_df = current_gw_df.merge(\n",
    "                next_gw_df[['name', 'total_points']],\n",
    "                on='name',\n",
    "                how='left'\n",
    "            )\n",
    "\n",
    "            # Rename the 'total_points' column\n",
    "            current_gw_df.rename(columns={'total_points': 'next_gw_points'}, inplace=True)\n",
    "\n",
    "            # Append to training data list\n",
    "            train_data.append(current_gw_df)\n",
    "\n",
    "        except FileNotFoundError:\n",
    "            print(f\"File for {season} Gameweek {gw} not found. Skipping...\")\n",
    "        except Exception as e:\n",
    "            print(f\"An error occurred while processing {season} Gameweek {gw}: {e}\")\n",
    "\n",
    "# Combine all data into a single DataFrame\n",
    "train_data_df = pd.concat(train_data, ignore_index=True)\n",
    "\n",
    "# Sort by next gameweek points in descending order\n",
    "train_data_df = train_data_df.sort_values(by='next_gw_points', ascending=False)\n",
    "\n",
    "# Optionally, save the training data to a CSV\n",
    "train_data_df.to_csv('train_data.csv', index=False)\n",
    "\n",
    "print(\"Training data created successfully.\")\n"
   ]
  }
 ],
 "metadata": {
  "kernelspec": {
   "display_name": "Python 3",
   "language": "python",
   "name": "python3"
  },
  "language_info": {
   "codemirror_mode": {
    "name": "ipython",
    "version": 3
   },
   "file_extension": ".py",
   "mimetype": "text/x-python",
   "name": "python",
   "nbconvert_exporter": "python",
   "pygments_lexer": "ipython3",
   "version": "3.12.1"
  }
 },
 "nbformat": 4,
 "nbformat_minor": 2
}
