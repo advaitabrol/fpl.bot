{
 "cells": [
  {
   "cell_type": "code",
   "execution_count": null,
   "metadata": {},
   "outputs": [],
   "source": [
    "pip install pandas scikit-learn xgboost"
   ]
  },
  {
   "cell_type": "code",
   "execution_count": 3,
   "metadata": {},
   "outputs": [],
   "source": [
    "import pandas as pd\n",
    "import numpy as np\n",
    "from sklearn.model_selection import train_test_split, cross_val_score\n",
    "from sklearn.ensemble import RandomForestRegressor\n",
    "from sklearn.metrics import mean_squared_error, mean_absolute_error\n",
    "import xgboost as xgb"
   ]
  },
  {
   "cell_type": "code",
   "execution_count": 14,
   "metadata": {},
   "outputs": [
    {
     "name": "stdout",
     "output_type": "stream",
     "text": [
      "              name       team      opponent_team date  was_home  minutes  \\\n",
      "0  Martin Dubravka  Newcastle  Nottingham Forest  NaN      True        0   \n",
      "1  Martin Dubravka    Man Utd            Everton  NaN     False        0   \n",
      "2  Martin Dubravka    Man Utd   Newcastle United  NaN      True        0   \n",
      "3  Martin Dubravka    Man Utd          Tottenham  NaN      True        0   \n",
      "4  Martin Dubravka    Man Utd            Chelsea  NaN     False        0   \n",
      "\n",
      "   goals_conceded  expected_goals_conceded  saves  penalties_saved  ...  \\\n",
      "0               0                      0.0      0                0  ...   \n",
      "1               0                      0.0      0                0  ...   \n",
      "2               0                      0.0      0                0  ...   \n",
      "3               0                      0.0      0                0  ...   \n",
      "4               0                      0.0      0                0  ...   \n",
      "\n",
      "   last_season_penalties_saved  last_season_expected_goals_conceded  \\\n",
      "0                            0                                  0.0   \n",
      "1                            0                                  0.0   \n",
      "2                            0                                  0.0   \n",
      "3                            0                                  0.0   \n",
      "4                            0                                  0.0   \n",
      "\n",
      "   last_season_clean_sheet_probability  next_week_points  next_team  \\\n",
      "0                                  0.0               0.0    Man Utd   \n",
      "1                                  0.0               0.0    Man Utd   \n",
      "2                                  0.0               0.0    Man Utd   \n",
      "3                                  0.0               0.0    Man Utd   \n",
      "4                                  0.0               0.0    Man Utd   \n",
      "\n",
      "   next_was_home  next_opponent_team  next_week_fixture_difficulty  \\\n",
      "0          False             Everton                         -1.18   \n",
      "1           True    Newcastle United                         -0.79   \n",
      "2           True           Tottenham                         -2.02   \n",
      "3          False             Chelsea                          0.93   \n",
      "4           True            West Ham                         -1.52   \n",
      "\n",
      "   saves_per_game  last_season_total_saves  \n",
      "0             0.0                        0  \n",
      "1             0.0                        0  \n",
      "2             0.0                        0  \n",
      "3             0.0                        0  \n",
      "4             0.0                        0  \n",
      "\n",
      "[5 rows x 27 columns]\n"
     ]
    }
   ],
   "source": [
    "# Load your dataset\n",
    "df = pd.read_csv('train_data/goalkeeper.csv')\n",
    "\n",
    "# Preview the data to ensure everything looks right\n",
    "print(df.head())\n",
    "\n",
    "# Check for any missing values and handle them (if any)"
   ]
  },
  {
   "cell_type": "code",
   "execution_count": 15,
   "metadata": {},
   "outputs": [],
   "source": [
    "# Define the feature columns you want to use for predictions\n",
    "features = [\n",
    "    'minutes','goals_conceded','expected_goals_conceded','saves','penalties_saved','total_points','bonus','clean_sheets','xA','starts','form','clean_sheet_probability','last_season_penalties_saved','last_season_expected_goals_conceded','last_season_clean_sheet_probability','next_week_fixture_difficulty', 'saves_per_game','last_season_total_saves'\n",
    "]\n",
    "\n",
    "\n",
    "\n",
    "# Define the target column (points scored in the next gameweek)\n",
    "target = 'next_week_points'\n",
    "\n",
    "# Split the dataset into features (X) and target (y)\n",
    "X = df[features]\n",
    "y = df[target]\n",
    "\n",
    "# Split the data into training and test sets\n",
    "X_train, X_test, y_train, y_test = train_test_split(X, y, test_size=0.2, random_state=42)"
   ]
  },
  {
   "cell_type": "code",
   "execution_count": 16,
   "metadata": {},
   "outputs": [
    {
     "name": "stdout",
     "output_type": "stream",
     "text": [
      "Random Forest MSE: 2.7383780518205234\n",
      "Random Forest MAE: 0.8340694196200028\n"
     ]
    }
   ],
   "source": [
    "# Initialize and train the Random Forest model\n",
    "rf_model = RandomForestRegressor(n_estimators=100, random_state=42)\n",
    "rf_model.fit(X_train, y_train)\n",
    "\n",
    "# Make predictions on the test set\n",
    "rf_predictions = rf_model.predict(X_test)\n",
    "\n",
    "# Evaluate the model's performance\n",
    "rf_mse = mean_squared_error(y_test, rf_predictions)\n",
    "rf_mae = mean_absolute_error(y_test, rf_predictions)\n",
    "\n",
    "print(f\"Random Forest MSE: {rf_mse}\")\n",
    "print(f\"Random Forest MAE: {rf_mae}\")"
   ]
  },
  {
   "cell_type": "code",
   "execution_count": 17,
   "metadata": {},
   "outputs": [
    {
     "name": "stdout",
     "output_type": "stream",
     "text": [
      "XGBoost MSE: 2.5672503601326704\n",
      "XGBoost MAE: 0.8139792776007507\n"
     ]
    }
   ],
   "source": [
    "# Initialize and train the XGBoost model\n",
    "xgb_model = xgb.XGBRegressor(n_estimators=100, learning_rate=0.1, max_depth=5, random_state=42)\n",
    "xgb_model.fit(X_train, y_train)\n",
    "\n",
    "# Make predictions on the test set\n",
    "xgb_predictions = xgb_model.predict(X_test)\n",
    "\n",
    "# Evaluate the model's performance\n",
    "xgb_mse = mean_squared_error(y_test, xgb_predictions)\n",
    "xgb_mae = mean_absolute_error(y_test, xgb_predictions)\n",
    "\n",
    "print(f\"XGBoost MSE: {xgb_mse}\")\n",
    "print(f\"XGBoost MAE: {xgb_mae}\")"
   ]
  },
  {
   "cell_type": "code",
   "execution_count": 18,
   "metadata": {},
   "outputs": [
    {
     "name": "stdout",
     "output_type": "stream",
     "text": [
      "                                feature  importance\n",
      "0                               minutes    0.367072\n",
      "15         next_week_fixture_difficulty    0.166831\n",
      "16                       saves_per_game    0.104268\n",
      "10                                 form    0.080118\n",
      "11              clean_sheet_probability    0.069370\n",
      "2               expected_goals_conceded    0.062600\n",
      "5                          total_points    0.035104\n",
      "3                                 saves    0.034220\n",
      "1                        goals_conceded    0.020498\n",
      "13  last_season_expected_goals_conceded    0.013610\n",
      "17              last_season_total_saves    0.012669\n",
      "14  last_season_clean_sheet_probability    0.010638\n",
      "6                                 bonus    0.005732\n",
      "8                                    xA    0.005679\n",
      "12          last_season_penalties_saved    0.003891\n",
      "9                                starts    0.003296\n",
      "4                       penalties_saved    0.002303\n",
      "7                          clean_sheets    0.002102\n",
      "                                feature  importance\n",
      "0                               minutes    0.698753\n",
      "15         next_week_fixture_difficulty    0.030105\n",
      "7                          clean_sheets    0.028323\n",
      "6                                 bonus    0.021841\n",
      "12          last_season_penalties_saved    0.021729\n",
      "9                                starts    0.019499\n",
      "13  last_season_expected_goals_conceded    0.018989\n",
      "10                                 form    0.018804\n",
      "16                       saves_per_game    0.016819\n",
      "11              clean_sheet_probability    0.016572\n",
      "17              last_season_total_saves    0.016544\n",
      "2               expected_goals_conceded    0.015958\n",
      "14  last_season_clean_sheet_probability    0.015275\n",
      "8                                    xA    0.015121\n",
      "3                                 saves    0.013968\n",
      "5                          total_points    0.013745\n",
      "1                        goals_conceded    0.010942\n",
      "4                       penalties_saved    0.007012\n"
     ]
    }
   ],
   "source": [
    "# Feature importance for Random Forest\n",
    "rf_feature_importance = rf_model.feature_importances_\n",
    "rf_importance_df = pd.DataFrame({\n",
    "    'feature': X_train.columns,\n",
    "    'importance': rf_feature_importance\n",
    "}).sort_values(by='importance', ascending=False)\n",
    "\n",
    "print(rf_importance_df)\n",
    "\n",
    "# Feature importance for XGBoost\n",
    "xgb_feature_importance = xgb_model.feature_importances_\n",
    "xgb_importance_df = pd.DataFrame({\n",
    "    'feature': X_train.columns,\n",
    "    'importance': xgb_feature_importance\n",
    "}).sort_values(by='importance', ascending=False)\n",
    "\n",
    "print(xgb_importance_df)"
   ]
  }
 ],
 "metadata": {
  "kernelspec": {
   "display_name": ".venv",
   "language": "python",
   "name": "python3"
  },
  "language_info": {
   "codemirror_mode": {
    "name": "ipython",
    "version": 3
   },
   "file_extension": ".py",
   "mimetype": "text/x-python",
   "name": "python",
   "nbconvert_exporter": "python",
   "pygments_lexer": "ipython3",
   "version": "3.12.1"
  }
 },
 "nbformat": 4,
 "nbformat_minor": 2
}
