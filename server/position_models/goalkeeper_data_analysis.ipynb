{
 "cells": [
  {
   "cell_type": "code",
   "execution_count": null,
   "metadata": {},
   "outputs": [],
   "source": [
    "pip install pandas scikit-learn xgboost"
   ]
  },
  {
   "cell_type": "code",
   "execution_count": 2,
   "metadata": {},
   "outputs": [],
   "source": [
    "import pandas as pd\n",
    "import numpy as np\n",
    "from sklearn.model_selection import train_test_split, cross_val_score\n",
    "from sklearn.ensemble import RandomForestRegressor\n",
    "from sklearn.metrics import mean_squared_error, mean_absolute_error\n",
    "import xgboost as xgb"
   ]
  },
  {
   "cell_type": "code",
   "execution_count": 8,
   "metadata": {},
   "outputs": [
    {
     "name": "stdout",
     "output_type": "stream",
     "text": [
      "              name       team      opponent_team date  was_home  minutes  \\\n",
      "0  Martin Dubravka  Newcastle  Nottingham Forest  NaN      True        0   \n",
      "1  Martin Dubravka    Man Utd            Everton  NaN     False        0   \n",
      "2  Martin Dubravka    Man Utd   Newcastle United  NaN      True        0   \n",
      "3  Martin Dubravka    Man Utd          Tottenham  NaN      True        0   \n",
      "4  Martin Dubravka    Man Utd            Chelsea  NaN     False        0   \n",
      "\n",
      "   goals_conceded  expected_goals_conceded  saves  penalties_saved  ...  \\\n",
      "0               0                      0.0      0                0  ...   \n",
      "1               0                      0.0      0                0  ...   \n",
      "2               0                      0.0      0                0  ...   \n",
      "3               0                      0.0      0                0  ...   \n",
      "4               0                      0.0      0                0  ...   \n",
      "\n",
      "   last_season_penalties_saved  last_season_expected_goals_conceded  \\\n",
      "0                            0                                  0.0   \n",
      "1                            0                                  0.0   \n",
      "2                            0                                  0.0   \n",
      "3                            0                                  0.0   \n",
      "4                            0                                  0.0   \n",
      "\n",
      "   last_season_clean_sheet_probability  last_season_total_saves  \\\n",
      "0                                  0.0                        0   \n",
      "1                                  0.0                        0   \n",
      "2                                  0.0                        0   \n",
      "3                                  0.0                        0   \n",
      "4                                  0.0                        0   \n",
      "\n",
      "   next_week_points  next_team  next_was_home  next_opponent_team  \\\n",
      "0               0.0    Man Utd          False             Everton   \n",
      "1               0.0    Man Utd           True    Newcastle United   \n",
      "2               0.0    Man Utd           True           Tottenham   \n",
      "3               0.0    Man Utd          False             Chelsea   \n",
      "4               0.0    Man Utd           True            West Ham   \n",
      "\n",
      "   next_week_specific_fixture_difficulty  \\\n",
      "0                                   2.77   \n",
      "1                                  -2.60   \n",
      "2                                  -2.03   \n",
      "3                                   0.54   \n",
      "4                                  -1.53   \n",
      "\n",
      "   next_week_holistic_fixture_difficulty  \n",
      "0                                  -0.63  \n",
      "1                                   0.73  \n",
      "2                                   1.07  \n",
      "3                                  -0.72  \n",
      "4                                   0.63  \n",
      "\n",
      "[5 rows x 28 columns]\n"
     ]
    }
   ],
   "source": [
    "# Load your dataset\n",
    "df = pd.read_csv('../train_data/goalkeeper.csv')\n",
    "\n",
    "# Preview the data to ensure everything looks right\n",
    "print(df.head())\n",
    "\n",
    "# Check for any missing values and handle them (if any)"
   ]
  },
  {
   "cell_type": "code",
   "execution_count": 9,
   "metadata": {},
   "outputs": [],
   "source": [
    "# Define the feature columns you want to use for predictions\n",
    "features = [\n",
    "    'minutes','goals_conceded','expected_goals_conceded','saves','penalties_saved','total_points','bonus','clean_sheets','xA','starts','form','clean_sheet_probability','last_season_penalties_saved','last_season_expected_goals_conceded','last_season_clean_sheet_probability','next_week_specific_fixture_difficulty', 'next_week_holistic_fixture_difficulty', 'saves_per_game','last_season_total_saves'\n",
    "]\n",
    "\n",
    "\n",
    "\n",
    "# Define the target column (points scored in the next gameweek)\n",
    "target = 'next_week_points'\n",
    "\n",
    "# Split the dataset into features (X) and target (y)\n",
    "X = df[features]\n",
    "y = df[target]\n",
    "\n",
    "# Split the data into training and test sets\n",
    "X_train, X_test, y_train, y_test = train_test_split(X, y, test_size=0.2, random_state=42)"
   ]
  },
  {
   "cell_type": "code",
   "execution_count": 10,
   "metadata": {},
   "outputs": [
    {
     "name": "stdout",
     "output_type": "stream",
     "text": [
      "Random Forest MSE: 2.925854679085795\n",
      "Random Forest MAE: 0.858777108321338\n"
     ]
    }
   ],
   "source": [
    "# Initialize and train the Random Forest model\n",
    "rf_model = RandomForestRegressor(n_estimators=100, random_state=42)\n",
    "rf_model.fit(X_train, y_train)\n",
    "\n",
    "# Make predictions on the test set\n",
    "rf_predictions = rf_model.predict(X_test)\n",
    "\n",
    "# Evaluate the model's performance\n",
    "rf_mse = mean_squared_error(y_test, rf_predictions)\n",
    "rf_mae = mean_absolute_error(y_test, rf_predictions)\n",
    "\n",
    "print(f\"Random Forest MSE: {rf_mse}\")\n",
    "print(f\"Random Forest MAE: {rf_mae}\")"
   ]
  },
  {
   "cell_type": "code",
   "execution_count": 11,
   "metadata": {},
   "outputs": [
    {
     "name": "stdout",
     "output_type": "stream",
     "text": [
      "XGBoost MSE: 2.9064871558658942\n",
      "XGBoost MAE: 0.8640877232254217\n"
     ]
    }
   ],
   "source": [
    "# Initialize and train the XGBoost model\n",
    "xgb_model = xgb.XGBRegressor(n_estimators=100, learning_rate=0.1, max_depth=5, random_state=42)\n",
    "xgb_model.fit(X_train, y_train)\n",
    "\n",
    "# Make predictions on the test set\n",
    "xgb_predictions = xgb_model.predict(X_test)\n",
    "\n",
    "# Evaluate the model's performance\n",
    "xgb_mse = mean_squared_error(y_test, xgb_predictions)\n",
    "xgb_mae = mean_absolute_error(y_test, xgb_predictions)\n",
    "\n",
    "print(f\"XGBoost MSE: {xgb_mse}\")\n",
    "print(f\"XGBoost MAE: {xgb_mae}\")"
   ]
  },
  {
   "cell_type": "code",
   "execution_count": 12,
   "metadata": {},
   "outputs": [
    {
     "name": "stdout",
     "output_type": "stream",
     "text": [
      "                                  feature  importance\n",
      "0                                 minutes    0.365620\n",
      "15  next_week_specific_fixture_difficulty    0.102945\n",
      "16  next_week_holistic_fixture_difficulty    0.098269\n",
      "17                         saves_per_game    0.089110\n",
      "10                                   form    0.076194\n",
      "11                clean_sheet_probability    0.064625\n",
      "2                 expected_goals_conceded    0.060862\n",
      "3                                   saves    0.032921\n",
      "5                            total_points    0.032331\n",
      "1                          goals_conceded    0.018875\n",
      "18                last_season_total_saves    0.012288\n",
      "13    last_season_expected_goals_conceded    0.011189\n",
      "14    last_season_clean_sheet_probability    0.009785\n",
      "6                                   bonus    0.007376\n",
      "8                                      xA    0.007317\n",
      "12            last_season_penalties_saved    0.003684\n",
      "9                                  starts    0.002676\n",
      "7                            clean_sheets    0.002308\n",
      "4                         penalties_saved    0.001625\n",
      "                                  feature  importance\n",
      "0                                 minutes    0.759497\n",
      "6                                   bonus    0.024362\n",
      "16  next_week_holistic_fixture_difficulty    0.018723\n",
      "10                                   form    0.017867\n",
      "15  next_week_specific_fixture_difficulty    0.017605\n",
      "8                                      xA    0.017085\n",
      "11                clean_sheet_probability    0.016247\n",
      "17                         saves_per_game    0.016040\n",
      "13    last_season_expected_goals_conceded    0.015472\n",
      "2                 expected_goals_conceded    0.014286\n",
      "18                last_season_total_saves    0.013337\n",
      "5                            total_points    0.013185\n",
      "3                                   saves    0.012553\n",
      "9                                  starts    0.012127\n",
      "14    last_season_clean_sheet_probability    0.010190\n",
      "12            last_season_penalties_saved    0.009100\n",
      "1                          goals_conceded    0.008097\n",
      "4                         penalties_saved    0.004226\n",
      "7                            clean_sheets    0.000000\n"
     ]
    }
   ],
   "source": [
    "# Feature importance for Random Forest\n",
    "rf_feature_importance = rf_model.feature_importances_\n",
    "rf_importance_df = pd.DataFrame({\n",
    "    'feature': X_train.columns,\n",
    "    'importance': rf_feature_importance\n",
    "}).sort_values(by='importance', ascending=False)\n",
    "\n",
    "print(rf_importance_df)\n",
    "\n",
    "# Feature importance for XGBoost\n",
    "xgb_feature_importance = xgb_model.feature_importances_\n",
    "xgb_importance_df = pd.DataFrame({\n",
    "    'feature': X_train.columns,\n",
    "    'importance': xgb_feature_importance\n",
    "}).sort_values(by='importance', ascending=False)\n",
    "\n",
    "print(xgb_importance_df)"
   ]
  }
 ],
 "metadata": {
  "kernelspec": {
   "display_name": ".venv",
   "language": "python",
   "name": "python3"
  },
  "language_info": {
   "codemirror_mode": {
    "name": "ipython",
    "version": 3
   },
   "file_extension": ".py",
   "mimetype": "text/x-python",
   "name": "python",
   "nbconvert_exporter": "python",
   "pygments_lexer": "ipython3",
   "version": "3.12.1"
  }
 },
 "nbformat": 4,
 "nbformat_minor": 2
}
