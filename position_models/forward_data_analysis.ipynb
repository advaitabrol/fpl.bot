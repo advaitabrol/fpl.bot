{
 "cells": [
  {
   "cell_type": "code",
   "execution_count": 6,
   "metadata": {},
   "outputs": [
    {
     "name": "stdout",
     "output_type": "stream",
     "text": [
      "Requirement already satisfied: pandas in ./.venv/lib/python3.12/site-packages (2.2.3)\n",
      "Requirement already satisfied: scikit-learn in ./.venv/lib/python3.12/site-packages (1.5.2)\n",
      "Requirement already satisfied: xgboost in ./.venv/lib/python3.12/site-packages (2.1.1)\n",
      "Requirement already satisfied: numpy>=1.26.0 in ./.venv/lib/python3.12/site-packages (from pandas) (2.1.2)\n",
      "Requirement already satisfied: python-dateutil>=2.8.2 in ./.venv/lib/python3.12/site-packages (from pandas) (2.9.0.post0)\n",
      "Requirement already satisfied: pytz>=2020.1 in ./.venv/lib/python3.12/site-packages (from pandas) (2024.2)\n",
      "Requirement already satisfied: tzdata>=2022.7 in ./.venv/lib/python3.12/site-packages (from pandas) (2024.2)\n",
      "Requirement already satisfied: scipy>=1.6.0 in ./.venv/lib/python3.12/site-packages (from scikit-learn) (1.14.1)\n",
      "Requirement already satisfied: joblib>=1.2.0 in ./.venv/lib/python3.12/site-packages (from scikit-learn) (1.4.2)\n",
      "Requirement already satisfied: threadpoolctl>=3.1.0 in ./.venv/lib/python3.12/site-packages (from scikit-learn) (3.5.0)\n",
      "Requirement already satisfied: six>=1.5 in ./.venv/lib/python3.12/site-packages (from python-dateutil>=2.8.2->pandas) (1.16.0)\n",
      "Note: you may need to restart the kernel to use updated packages.\n"
     ]
    }
   ],
   "source": [
    "pip install pandas scikit-learn xgboost"
   ]
  },
  {
   "cell_type": "code",
   "execution_count": 3,
   "metadata": {},
   "outputs": [],
   "source": [
    "import pandas as pd\n",
    "import numpy as np\n",
    "from sklearn.model_selection import train_test_split, cross_val_score\n",
    "from sklearn.ensemble import RandomForestRegressor\n",
    "from sklearn.metrics import mean_squared_error, mean_absolute_error\n",
    "import xgboost as xgb"
   ]
  },
  {
   "cell_type": "code",
   "execution_count": 7,
   "metadata": {},
   "outputs": [
    {
     "name": "stdout",
     "output_type": "stream",
     "text": [
      "          name       team   opponent_team        date  was_home position  \\\n",
      "0  Jamie Vardy  Leicester       Brentford  2022-08-07      True       FW   \n",
      "1  Jamie Vardy  Leicester     Bournemouth  2022-10-08     False      Sub   \n",
      "2  Jamie Vardy  Leicester  Crystal Palace  2022-10-15      True      Sub   \n",
      "3  Jamie Vardy  Leicester  Leicester City  2022-10-20      True       FW   \n",
      "4  Jamie Vardy  Leicester   Wolverhampton  2022-10-23     False      Sub   \n",
      "\n",
      "   minutes  goals    xG  assists  ...  last_season_assists  last_season_xG  \\\n",
      "0       90    0.0  0.00      1.0  ...                  2.0            9.99   \n",
      "1       23    0.0  0.03      0.0  ...                  2.0            9.99   \n",
      "2       25    0.0  0.00      0.0  ...                  2.0            9.99   \n",
      "3       63    0.0  0.00      0.0  ...                  2.0            9.99   \n",
      "4       29    1.0  0.52      1.0  ...                  2.0            9.99   \n",
      "\n",
      "   last_season_xA  last_season_points_per_minute  next_week_points  next_team  \\\n",
      "0             1.6                           0.07               1.0  Leicester   \n",
      "1             1.6                           0.07               0.0  Leicester   \n",
      "2             1.6                           0.07               2.0  Leicester   \n",
      "3             1.6                           0.07              10.0  Leicester   \n",
      "4             1.6                           0.07               2.0  Leicester   \n",
      "\n",
      "   next_was_home  next_opponent_team  next_week_fixture_difficulty  \\\n",
      "0          False         Bournemouth                           NaN   \n",
      "1           True      Crystal Palace                         -0.43   \n",
      "2           True      Leicester City                          2.25   \n",
      "3          False       Wolverhampton                          3.01   \n",
      "4           True     Manchester City                          2.25   \n",
      "\n",
      "   next_week_specific_fixture_difficulty  \n",
      "0                                    NaN  \n",
      "1                                    NaN  \n",
      "2                                    NaN  \n",
      "3                                    NaN  \n",
      "4                                    NaN  \n",
      "\n",
      "[5 rows x 31 columns]\n"
     ]
    }
   ],
   "source": [
    "# Load your dataset\n",
    "df = pd.read_csv('../train_data/forward.csv')\n",
    "\n",
    "# Preview the data to ensure everything looks right\n",
    "print(df.head())\n",
    "\n",
    "# Check for any missing values and handle them (if any)\n",
    "df.fillna(0, inplace=True)  # Simple way to handle missing values"
   ]
  },
  {
   "cell_type": "code",
   "execution_count": 8,
   "metadata": {},
   "outputs": [],
   "source": [
    "# Define the feature columns you want to use for predictions\n",
    "features = [\n",
    "    'minutes','goals','xG','assists','xA','total_points','shots','key_passes','ict_index','bonus','starts','form','xG&A_form','minutes_per_game','last_season_goals','last_season_assists','last_season_xG','last_season_xA','last_season_points_per_minute','next_week_specific_fixture_difficulty'\n",
    "]\n",
    "\n",
    "# Define the target column (points scored in the next gameweek)\n",
    "target = 'next_week_points'\n",
    "\n",
    "# Split the dataset into features (X) and target (y)\n",
    "X = df[features]\n",
    "y = df[target]\n",
    "\n",
    "# Split the data into training and test sets\n",
    "X_train, X_test, y_train, y_test = train_test_split(X, y, test_size=0.2, random_state=42)"
   ]
  },
  {
   "cell_type": "code",
   "execution_count": 9,
   "metadata": {},
   "outputs": [
    {
     "name": "stdout",
     "output_type": "stream",
     "text": [
      "Random Forest MSE: 5.948201243336317\n",
      "Random Forest MAE: 1.34721238706057\n"
     ]
    }
   ],
   "source": [
    "# Initialize and train the Random Forest model\n",
    "rf_model = RandomForestRegressor(n_estimators=100, random_state=42)\n",
    "rf_model.fit(X_train, y_train)\n",
    "\n",
    "# Make predictions on the test set\n",
    "rf_predictions = rf_model.predict(X_test)\n",
    "\n",
    "# Evaluate the model's performance\n",
    "rf_mse = mean_squared_error(y_test, rf_predictions)\n",
    "rf_mae = mean_absolute_error(y_test, rf_predictions)\n",
    "\n",
    "print(f\"Random Forest MSE: {rf_mse}\")\n",
    "print(f\"Random Forest MAE: {rf_mae}\")"
   ]
  },
  {
   "cell_type": "code",
   "execution_count": 10,
   "metadata": {},
   "outputs": [
    {
     "name": "stdout",
     "output_type": "stream",
     "text": [
      "XGBoost MSE: 5.729873719943619\n",
      "XGBoost MAE: 1.3036559624497206\n"
     ]
    }
   ],
   "source": [
    "# Initialize and train the XGBoost model\n",
    "xgb_model = xgb.XGBRegressor(n_estimators=100, learning_rate=0.1, max_depth=5, random_state=42)\n",
    "xgb_model.fit(X_train, y_train)\n",
    "\n",
    "# Make predictions on the test set\n",
    "xgb_predictions = xgb_model.predict(X_test)\n",
    "\n",
    "# Evaluate the model's performance\n",
    "xgb_mse = mean_squared_error(y_test, xgb_predictions)\n",
    "xgb_mae = mean_absolute_error(y_test, xgb_predictions)\n",
    "\n",
    "print(f\"XGBoost MSE: {xgb_mse}\")\n",
    "print(f\"XGBoost MAE: {xgb_mae}\")"
   ]
  },
  {
   "cell_type": "code",
   "execution_count": 11,
   "metadata": {},
   "outputs": [
    {
     "name": "stdout",
     "output_type": "stream",
     "text": [
      "                                  feature  importance\n",
      "0                                 minutes    0.265692\n",
      "13                       minutes_per_game    0.154833\n",
      "12                              xG&A_form    0.104362\n",
      "11                                   form    0.092615\n",
      "8                               ict_index    0.077907\n",
      "2                                      xG    0.050430\n",
      "19  next_week_specific_fixture_difficulty    0.034322\n",
      "4                                      xA    0.032757\n",
      "17                         last_season_xA    0.025795\n",
      "5                            total_points    0.025305\n",
      "16                         last_season_xG    0.024005\n",
      "6                                   shots    0.022333\n",
      "18          last_season_points_per_minute    0.020048\n",
      "15                    last_season_assists    0.018060\n",
      "14                      last_season_goals    0.017359\n",
      "7                              key_passes    0.010682\n",
      "1                                   goals    0.008308\n",
      "10                                 starts    0.006657\n",
      "9                                   bonus    0.005219\n",
      "3                                 assists    0.003310\n",
      "                                  feature  importance\n",
      "0                                 minutes    0.214784\n",
      "5                            total_points    0.064391\n",
      "16                         last_season_xG    0.063999\n",
      "12                              xG&A_form    0.063595\n",
      "11                                   form    0.061990\n",
      "13                       minutes_per_game    0.059188\n",
      "17                         last_season_xA    0.045906\n",
      "15                    last_season_assists    0.044314\n",
      "14                      last_season_goals    0.042065\n",
      "18          last_season_points_per_minute    0.036980\n",
      "19  next_week_specific_fixture_difficulty    0.036604\n",
      "6                                   shots    0.036509\n",
      "8                               ict_index    0.035784\n",
      "4                                      xA    0.034249\n",
      "9                                   bonus    0.032251\n",
      "2                                      xG    0.031770\n",
      "7                              key_passes    0.028272\n",
      "3                                 assists    0.027015\n",
      "10                                 starts    0.023137\n",
      "1                                   goals    0.017196\n"
     ]
    }
   ],
   "source": [
    "# Feature importance for Random Forest\n",
    "rf_feature_importance = rf_model.feature_importances_\n",
    "rf_importance_df = pd.DataFrame({\n",
    "    'feature': X_train.columns,\n",
    "    'importance': rf_feature_importance\n",
    "}).sort_values(by='importance', ascending=False)\n",
    "\n",
    "print(rf_importance_df)\n",
    "\n",
    "# Feature importance for XGBoost\n",
    "xgb_feature_importance = xgb_model.feature_importances_\n",
    "xgb_importance_df = pd.DataFrame({\n",
    "    'feature': X_train.columns,\n",
    "    'importance': xgb_feature_importance\n",
    "}).sort_values(by='importance', ascending=False)\n",
    "\n",
    "print(xgb_importance_df)"
   ]
  }
 ],
 "metadata": {
  "kernelspec": {
   "display_name": "Python 3",
   "language": "python",
   "name": "python3"
  },
  "language_info": {
   "codemirror_mode": {
    "name": "ipython",
    "version": 3
   },
   "file_extension": ".py",
   "mimetype": "text/x-python",
   "name": "python",
   "nbconvert_exporter": "python",
   "pygments_lexer": "ipython3",
   "version": "3.12.1"
  }
 },
 "nbformat": 4,
 "nbformat_minor": 2
}
