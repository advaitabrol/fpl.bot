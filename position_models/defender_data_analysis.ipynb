{
 "cells": [
  {
   "cell_type": "code",
   "execution_count": 1,
   "metadata": {},
   "outputs": [
    {
     "name": "stdout",
     "output_type": "stream",
     "text": [
      "Requirement already satisfied: pandas in ./.venv/lib/python3.12/site-packages (2.2.3)\n",
      "Requirement already satisfied: scikit-learn in ./.venv/lib/python3.12/site-packages (1.5.2)\n",
      "Requirement already satisfied: xgboost in ./.venv/lib/python3.12/site-packages (2.1.1)\n",
      "Requirement already satisfied: numpy>=1.26.0 in ./.venv/lib/python3.12/site-packages (from pandas) (2.1.2)\n",
      "Requirement already satisfied: python-dateutil>=2.8.2 in ./.venv/lib/python3.12/site-packages (from pandas) (2.9.0.post0)\n",
      "Requirement already satisfied: pytz>=2020.1 in ./.venv/lib/python3.12/site-packages (from pandas) (2024.2)\n",
      "Requirement already satisfied: tzdata>=2022.7 in ./.venv/lib/python3.12/site-packages (from pandas) (2024.2)\n",
      "Requirement already satisfied: scipy>=1.6.0 in ./.venv/lib/python3.12/site-packages (from scikit-learn) (1.14.1)\n",
      "Requirement already satisfied: joblib>=1.2.0 in ./.venv/lib/python3.12/site-packages (from scikit-learn) (1.4.2)\n",
      "Requirement already satisfied: threadpoolctl>=3.1.0 in ./.venv/lib/python3.12/site-packages (from scikit-learn) (3.5.0)\n",
      "Requirement already satisfied: six>=1.5 in ./.venv/lib/python3.12/site-packages (from python-dateutil>=2.8.2->pandas) (1.16.0)\n",
      "Note: you may need to restart the kernel to use updated packages.\n"
     ]
    }
   ],
   "source": [
    "pip install pandas scikit-learn xgboost"
   ]
  },
  {
   "cell_type": "code",
   "execution_count": 8,
   "metadata": {},
   "outputs": [],
   "source": [
    "import pandas as pd\n",
    "import numpy as np\n",
    "from sklearn.model_selection import train_test_split, cross_val_score\n",
    "from sklearn.ensemble import RandomForestRegressor\n",
    "from sklearn.metrics import mean_squared_error, mean_absolute_error\n",
    "import xgboost as xgb"
   ]
  },
  {
   "cell_type": "code",
   "execution_count": 9,
   "metadata": {},
   "outputs": [
    {
     "name": "stdout",
     "output_type": "stream",
     "text": [
      "         name      team opponent_team        date  was_home position  minutes  \\\n",
      "0  Nathan Aké  Man City      West Ham  2022-08-07     False       DC       90   \n",
      "1  Nathan Aké  Man City   Southampton  2022-10-08      True       DC       90   \n",
      "2  Nathan Aké  Man City     Liverpool  2022-10-16     False       DL       90   \n",
      "3  Nathan Aké  Man City      Brighton         NaN      True      NaN        0   \n",
      "4  Nathan Aké  Man City  Leeds United         NaN     False      NaN        0   \n",
      "\n",
      "   goals    xG  assists  ...  last_season_xG  last_season_xA  \\\n",
      "0    0.0  0.01      0.0  ...             0.0             0.0   \n",
      "1    0.0  0.00      0.0  ...             0.0             0.0   \n",
      "2    0.0  0.00      0.0  ...             0.0             0.0   \n",
      "3    NaN   NaN      NaN  ...             0.0             0.0   \n",
      "4    NaN   NaN      NaN  ...             0.0             0.0   \n",
      "\n",
      "   last_season_expected_goals_conceded  last_season_clean_sheet_probability  \\\n",
      "0                                  0.0                                  0.0   \n",
      "1                                  0.0                                  0.0   \n",
      "2                                  0.0                                  0.0   \n",
      "3                                  0.0                                  0.0   \n",
      "4                                  0.0                                  0.0   \n",
      "\n",
      "   next_week_points  next_team  next_was_home  next_opponent_team  \\\n",
      "0               6.0   Man City           True         Southampton   \n",
      "1               2.0   Man City          False           Liverpool   \n",
      "2               0.0   Man City           True            Brighton   \n",
      "3               0.0   Man City          False        Leeds United   \n",
      "4               2.0   Man City           True              Fulham   \n",
      "\n",
      "   next_week_specific_fixture_difficulty  \\\n",
      "0                                  -1.98   \n",
      "1                                  -0.75   \n",
      "2                                  -3.14   \n",
      "3                                  -0.78   \n",
      "4                                    NaN   \n",
      "\n",
      "   next_week_holistic_fixture_difficulty  \n",
      "0                                  -0.38  \n",
      "1                                  -1.33  \n",
      "2                                  -0.71  \n",
      "3                                  -0.80  \n",
      "4                                  -0.30  \n",
      "\n",
      "[5 rows x 34 columns]\n"
     ]
    }
   ],
   "source": [
    "# Load your dataset\n",
    "df = pd.read_csv('../train_data/defender.csv')\n",
    "\n",
    "# Preview the data to ensure everything looks right\n",
    "print(df.head())\n",
    "\n",
    "# Check for any missing values and handle them (if any)\n",
    "df.fillna(0, inplace=True)  # Simple way to handle missing values"
   ]
  },
  {
   "cell_type": "code",
   "execution_count": 10,
   "metadata": {},
   "outputs": [],
   "source": [
    "# Define the feature columns you want to use for predictions\n",
    "features = [\n",
    "    'minutes','goals','xG','assists','xA','total_points','shots','key_passes','ict_index','bonus','clean_sheets','goals_conceded','expected_goals_conceded','clean_sheet_probability','last_season_expected_goals_conceded','last_season_clean_sheet_probability','starts','form','xG&A_form','minutes_per_game','last_season_xG','last_season_xA','next_week_specific_fixture_difficulty', 'next_week_holistic_fixture_difficulty'\n",
    "]\n",
    "\n",
    "# Define the target column (points scored in the next gameweek)\n",
    "target = 'next_week_points'\n",
    "\n",
    "# Split the dataset into features (X) and target (y)\n",
    "X = df[features]\n",
    "y = df[target]\n",
    "\n",
    "# Split the data into training and test sets\n",
    "X_train, X_test, y_train, y_test = train_test_split(X, y, test_size=0.2, random_state=42)"
   ]
  },
  {
   "cell_type": "code",
   "execution_count": 11,
   "metadata": {},
   "outputs": [
    {
     "name": "stdout",
     "output_type": "stream",
     "text": [
      "Random Forest MSE: 4.1601047780031415\n",
      "Random Forest MAE: 1.1898032977972048\n"
     ]
    }
   ],
   "source": [
    "# Initialize and train the Random Forest model\n",
    "rf_model = RandomForestRegressor(n_estimators=100, random_state=42)\n",
    "rf_model.fit(X_train, y_train)\n",
    "\n",
    "# Make predictions on the test set\n",
    "rf_predictions = rf_model.predict(X_test)\n",
    "\n",
    "# Evaluate the model's performance\n",
    "rf_mse = mean_squared_error(y_test, rf_predictions)\n",
    "rf_mae = mean_absolute_error(y_test, rf_predictions)\n",
    "\n",
    "print(f\"Random Forest MSE: {rf_mse}\")\n",
    "print(f\"Random Forest MAE: {rf_mae}\")"
   ]
  },
  {
   "cell_type": "code",
   "execution_count": 12,
   "metadata": {},
   "outputs": [
    {
     "name": "stdout",
     "output_type": "stream",
     "text": [
      "XGBoost MSE: 4.0056239150339215\n",
      "XGBoost MAE: 1.1492506514676482\n"
     ]
    }
   ],
   "source": [
    "# Initialize and train the XGBoost model\n",
    "xgb_model = xgb.XGBRegressor(n_estimators=100, learning_rate=0.1, max_depth=5, random_state=42)\n",
    "xgb_model.fit(X_train, y_train)\n",
    "\n",
    "# Make predictions on the test set\n",
    "xgb_predictions = xgb_model.predict(X_test)\n",
    "\n",
    "# Evaluate the model's performance\n",
    "xgb_mse = mean_squared_error(y_test, xgb_predictions)\n",
    "xgb_mae = mean_absolute_error(y_test, xgb_predictions)\n",
    "\n",
    "print(f\"XGBoost MSE: {xgb_mse}\")\n",
    "print(f\"XGBoost MAE: {xgb_mae}\")"
   ]
  },
  {
   "cell_type": "code",
   "execution_count": 13,
   "metadata": {},
   "outputs": [
    {
     "name": "stdout",
     "output_type": "stream",
     "text": [
      "                                  feature  importance\n",
      "0                                 minutes    0.191468\n",
      "19                       minutes_per_game    0.120670\n",
      "22  next_week_specific_fixture_difficulty    0.100810\n",
      "23  next_week_holistic_fixture_difficulty    0.089418\n",
      "17                                   form    0.065066\n",
      "8                               ict_index    0.063263\n",
      "12                expected_goals_conceded    0.061888\n",
      "13                clean_sheet_probability    0.056956\n",
      "18                              xG&A_form    0.043337\n",
      "5                            total_points    0.025635\n",
      "4                                      xA    0.023494\n",
      "21                         last_season_xA    0.022816\n",
      "2                                      xG    0.022713\n",
      "14    last_season_expected_goals_conceded    0.020708\n",
      "11                         goals_conceded    0.019928\n",
      "20                         last_season_xG    0.019856\n",
      "15    last_season_clean_sheet_probability    0.018445\n",
      "6                                   shots    0.010591\n",
      "7                              key_passes    0.007475\n",
      "9                                   bonus    0.006313\n",
      "16                                 starts    0.003549\n",
      "10                           clean_sheets    0.002505\n",
      "3                                 assists    0.002052\n",
      "1                                   goals    0.001044\n",
      "                                  feature  importance\n",
      "0                                 minutes    0.333825\n",
      "9                                   bonus    0.065827\n",
      "21                         last_season_xA    0.051998\n",
      "19                       minutes_per_game    0.048892\n",
      "22  next_week_specific_fixture_difficulty    0.037481\n",
      "23  next_week_holistic_fixture_difficulty    0.037380\n",
      "17                                   form    0.032229\n",
      "12                expected_goals_conceded    0.032146\n",
      "20                         last_season_xG    0.030916\n",
      "8                               ict_index    0.029337\n",
      "5                            total_points    0.027636\n",
      "13                clean_sheet_probability    0.027271\n",
      "18                              xG&A_form    0.026898\n",
      "11                         goals_conceded    0.025037\n",
      "10                           clean_sheets    0.024162\n",
      "16                                 starts    0.023778\n",
      "14    last_season_expected_goals_conceded    0.022583\n",
      "4                                      xA    0.022132\n",
      "15    last_season_clean_sheet_probability    0.020991\n",
      "6                                   shots    0.020961\n",
      "2                                      xG    0.020180\n",
      "7                              key_passes    0.019576\n",
      "3                                 assists    0.012918\n",
      "1                                   goals    0.005843\n"
     ]
    }
   ],
   "source": [
    "# Feature importance for Random Forest\n",
    "rf_feature_importance = rf_model.feature_importances_\n",
    "rf_importance_df = pd.DataFrame({\n",
    "    'feature': X_train.columns,\n",
    "    'importance': rf_feature_importance\n",
    "}).sort_values(by='importance', ascending=False)\n",
    "\n",
    "print(rf_importance_df)\n",
    "\n",
    "# Feature importance for XGBoost\n",
    "xgb_feature_importance = xgb_model.feature_importances_\n",
    "xgb_importance_df = pd.DataFrame({\n",
    "    'feature': X_train.columns,\n",
    "    'importance': xgb_feature_importance\n",
    "}).sort_values(by='importance', ascending=False)\n",
    "\n",
    "print(xgb_importance_df)"
   ]
  }
 ],
 "metadata": {
  "kernelspec": {
   "display_name": ".venv",
   "language": "python",
   "name": "python3"
  },
  "language_info": {
   "codemirror_mode": {
    "name": "ipython",
    "version": 3
   },
   "file_extension": ".py",
   "mimetype": "text/x-python",
   "name": "python",
   "nbconvert_exporter": "python",
   "pygments_lexer": "ipython3",
   "version": "3.12.1"
  }
 },
 "nbformat": 4,
 "nbformat_minor": 2
}
