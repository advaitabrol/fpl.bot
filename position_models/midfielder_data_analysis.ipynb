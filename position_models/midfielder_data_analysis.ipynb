{
 "cells": [
  {
   "cell_type": "code",
   "execution_count": 7,
   "metadata": {},
   "outputs": [
    {
     "name": "stdout",
     "output_type": "stream",
     "text": [
      "Traceback (most recent call last):\n",
      "  File \"<frozen runpy>\", line 198, in _run_module_as_main\n",
      "  File \"<frozen runpy>\", line 88, in _run_code\n",
      "  File \"/Users/advaitabrol/Desktop/fpl.bot/.venv/lib/python3.12/site-packages/pip/__main__.py\", line 8, in <module>\n",
      "    if sys.path[0] in (\"\", os.getcwd()):\n",
      "                           ^^^^^^^^^^^\n",
      "FileNotFoundError: [Errno 2] No such file or directory\n",
      "Note: you may need to restart the kernel to use updated packages.\n"
     ]
    }
   ],
   "source": [
    "pip install pandas scikit-learn xgboost"
   ]
  },
  {
   "cell_type": "code",
   "execution_count": 8,
   "metadata": {},
   "outputs": [],
   "source": [
    "import pandas as pd\n",
    "import numpy as np\n",
    "from sklearn.model_selection import train_test_split, cross_val_score\n",
    "from sklearn.ensemble import RandomForestRegressor\n",
    "from sklearn.metrics import mean_squared_error, mean_absolute_error\n",
    "import xgboost as xgb"
   ]
  },
  {
   "cell_type": "code",
   "execution_count": 9,
   "metadata": {},
   "outputs": [
    {
     "name": "stdout",
     "output_type": "stream",
     "text": [
      "         name           team     opponent_team        date  was_home position  \\\n",
      "0  Ryan Yates  Nott'm Forest  Newcastle United         NaN     False      NaN   \n",
      "1  Ryan Yates  Nott'm Forest       Aston Villa  2022-10-10      True       MC   \n",
      "2  Ryan Yates  Nott'm Forest     Wolverhampton  2022-10-15     False       MC   \n",
      "3  Ryan Yates  Nott'm Forest          Brighton  2022-10-18     False       MC   \n",
      "4  Ryan Yates  Nott'm Forest         Liverpool  2022-10-22      True       MC   \n",
      "\n",
      "   minutes  goals    xG  assists  ...  last_season_assists  last_season_xG  \\\n",
      "0        0    NaN   NaN      NaN  ...                  0.0             0.0   \n",
      "1       90    0.0  0.00      0.0  ...                  0.0             0.0   \n",
      "2       90    0.0  0.14      0.0  ...                  0.0             0.0   \n",
      "3       90    0.0  0.08      0.0  ...                  0.0             0.0   \n",
      "4       90    0.0  0.44      0.0  ...                  0.0             0.0   \n",
      "\n",
      "   last_season_xA  last_season_points_per_minute  next_week_points  \\\n",
      "0             0.0                            0.0               1.0   \n",
      "1             0.0                            0.0               2.0   \n",
      "2             0.0                            0.0               3.0   \n",
      "3             0.0                            0.0               3.0   \n",
      "4             0.0                            0.0               2.0   \n",
      "\n",
      "       next_team  next_was_home  next_opponent_team  \\\n",
      "0  Nott'm Forest           True         Aston Villa   \n",
      "1  Nott'm Forest          False       Wolverhampton   \n",
      "2  Nott'm Forest          False            Brighton   \n",
      "3  Nott'm Forest           True           Liverpool   \n",
      "4  Nott'm Forest          False             Arsenal   \n",
      "\n",
      "   next_week_specific_fixture_difficulty  \\\n",
      "0                                    NaN   \n",
      "1                                    NaN   \n",
      "2                                    NaN   \n",
      "3                                    NaN   \n",
      "4                                    NaN   \n",
      "\n",
      "   next_week_holistic_fixture_difficulty  \n",
      "0                                   0.55  \n",
      "1                                  -0.46  \n",
      "2                                  -0.39  \n",
      "3                                  -0.53  \n",
      "4                                  -0.00  \n",
      "\n",
      "[5 rows x 33 columns]\n"
     ]
    }
   ],
   "source": [
    "# Load your dataset\n",
    "df = pd.read_csv('../train_data/midfielder.csv')\n",
    "\n",
    "# Preview the data to ensure everything looks right\n",
    "print(df.head())\n",
    "\n",
    "# Check for any missing values and handle them (if any)\n",
    "df.fillna(0, inplace=True)  # Simple way to handle missing values"
   ]
  },
  {
   "cell_type": "code",
   "execution_count": 10,
   "metadata": {},
   "outputs": [],
   "source": [
    "# Define the feature columns you want to use for predictions\n",
    "features = [\n",
    "    'goals_conceded', 'clean_sheets', 'minutes','goals','xG','assists','xA','total_points','shots','key_passes','ict_index','bonus', 'starts','form','xG&A_form','minutes_per_game','last_season_goals','last_season_assists','last_season_xG','last_season_xA','last_season_points_per_minute','next_week_specific_fixture_difficulty', 'next_week_holistic_fixture_difficulty',\n",
    "]\n",
    "\n",
    "# Define the target column (points scored in the next gameweek)\n",
    "target = 'next_week_points'\n",
    "\n",
    "# Split the dataset into features (X) and target (y)\n",
    "X = df[features]\n",
    "y = df[target]\n",
    "\n",
    "# Split the data into training and test sets\n",
    "X_train, X_test, y_train, y_test = train_test_split(X, y, test_size=0.2, random_state=42)"
   ]
  },
  {
   "cell_type": "code",
   "execution_count": 11,
   "metadata": {},
   "outputs": [
    {
     "name": "stdout",
     "output_type": "stream",
     "text": [
      "Random Forest MSE: 4.439889815149358\n",
      "Random Forest MAE: 1.1329816629707008\n"
     ]
    }
   ],
   "source": [
    "# Initialize and train the Random Forest model\n",
    "rf_model = RandomForestRegressor(n_estimators=100, random_state=42)\n",
    "rf_model.fit(X_train, y_train)\n",
    "\n",
    "# Make predictions on the test set\n",
    "rf_predictions = rf_model.predict(X_test)\n",
    "\n",
    "# Evaluate the model's performance\n",
    "rf_mse = mean_squared_error(y_test, rf_predictions)\n",
    "rf_mae = mean_absolute_error(y_test, rf_predictions)\n",
    "\n",
    "print(f\"Random Forest MSE: {rf_mse}\")\n",
    "print(f\"Random Forest MAE: {rf_mae}\")"
   ]
  },
  {
   "cell_type": "code",
   "execution_count": 12,
   "metadata": {},
   "outputs": [
    {
     "name": "stdout",
     "output_type": "stream",
     "text": [
      "XGBoost MSE: 4.42741183415463\n",
      "XGBoost MAE: 1.0956850814189492\n"
     ]
    }
   ],
   "source": [
    "# Initialize and train the XGBoost model\n",
    "xgb_model = xgb.XGBRegressor(n_estimators=100, learning_rate=0.1, max_depth=5, random_state=42)\n",
    "xgb_model.fit(X_train, y_train)\n",
    "\n",
    "# Make predictions on the test set\n",
    "xgb_predictions = xgb_model.predict(X_test)\n",
    "\n",
    "# Evaluate the model's performance\n",
    "xgb_mse = mean_squared_error(y_test, xgb_predictions)\n",
    "xgb_mae = mean_absolute_error(y_test, xgb_predictions)\n",
    "\n",
    "print(f\"XGBoost MSE: {xgb_mse}\")\n",
    "print(f\"XGBoost MAE: {xgb_mae}\")"
   ]
  },
  {
   "cell_type": "code",
   "execution_count": 13,
   "metadata": {},
   "outputs": [
    {
     "name": "stdout",
     "output_type": "stream",
     "text": [
      "                                  feature  importance\n",
      "2                                 minutes    0.265269\n",
      "15                       minutes_per_game    0.101739\n",
      "21  next_week_specific_fixture_difficulty    0.083118\n",
      "13                                   form    0.077126\n",
      "22  next_week_holistic_fixture_difficulty    0.074161\n",
      "14                              xG&A_form    0.059872\n",
      "10                              ict_index    0.059400\n",
      "19                         last_season_xA    0.039993\n",
      "6                                      xA    0.032835\n",
      "4                                      xG    0.032725\n",
      "18                         last_season_xG    0.030276\n",
      "7                            total_points    0.021644\n",
      "17                    last_season_assists    0.021110\n",
      "16                      last_season_goals    0.018460\n",
      "0                          goals_conceded    0.018413\n",
      "20          last_season_points_per_minute    0.017214\n",
      "8                                   shots    0.016122\n",
      "9                              key_passes    0.010676\n",
      "12                                 starts    0.005907\n",
      "1                            clean_sheets    0.004746\n",
      "5                                 assists    0.003550\n",
      "11                                  bonus    0.003233\n",
      "3                                   goals    0.002413\n",
      "                                  feature  importance\n",
      "2                                 minutes    0.362039\n",
      "13                                   form    0.061475\n",
      "1                            clean_sheets    0.044530\n",
      "10                              ict_index    0.044344\n",
      "15                       minutes_per_game    0.042967\n",
      "19                         last_season_xA    0.040963\n",
      "14                              xG&A_form    0.039562\n",
      "21  next_week_specific_fixture_difficulty    0.034221\n",
      "17                    last_season_assists    0.033642\n",
      "22  next_week_holistic_fixture_difficulty    0.032172\n",
      "16                      last_season_goals    0.031859\n",
      "18                         last_season_xG    0.029372\n",
      "20          last_season_points_per_minute    0.025678\n",
      "6                                      xA    0.023403\n",
      "11                                  bonus    0.023196\n",
      "12                                 starts    0.021203\n",
      "8                                   shots    0.020482\n",
      "7                            total_points    0.019950\n",
      "4                                      xG    0.018224\n",
      "9                              key_passes    0.017936\n",
      "3                                   goals    0.011312\n",
      "0                          goals_conceded    0.011158\n",
      "5                                 assists    0.010312\n"
     ]
    }
   ],
   "source": [
    "# Feature importance for Random Forest\n",
    "rf_feature_importance = rf_model.feature_importances_\n",
    "rf_importance_df = pd.DataFrame({\n",
    "    'feature': X_train.columns,\n",
    "    'importance': rf_feature_importance\n",
    "}).sort_values(by='importance', ascending=False)\n",
    "\n",
    "print(rf_importance_df)\n",
    "\n",
    "# Feature importance for XGBoost\n",
    "xgb_feature_importance = xgb_model.feature_importances_\n",
    "xgb_importance_df = pd.DataFrame({\n",
    "    'feature': X_train.columns,\n",
    "    'importance': xgb_feature_importance\n",
    "}).sort_values(by='importance', ascending=False)\n",
    "\n",
    "print(xgb_importance_df)"
   ]
  }
 ],
 "metadata": {
  "kernelspec": {
   "display_name": ".venv",
   "language": "python",
   "name": "python3"
  },
  "language_info": {
   "codemirror_mode": {
    "name": "ipython",
    "version": 3
   },
   "file_extension": ".py",
   "mimetype": "text/x-python",
   "name": "python",
   "nbconvert_exporter": "python",
   "pygments_lexer": "ipython3",
   "version": "3.12.1"
  }
 },
 "nbformat": 4,
 "nbformat_minor": 2
}
