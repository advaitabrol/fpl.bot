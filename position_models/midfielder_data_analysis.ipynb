{
 "cells": [
  {
   "cell_type": "code",
   "execution_count": 1,
   "metadata": {},
   "outputs": [
    {
     "name": "stdout",
     "output_type": "stream",
     "text": [
      "Requirement already satisfied: pandas in ./.venv/lib/python3.12/site-packages (2.2.3)\n",
      "Requirement already satisfied: scikit-learn in ./.venv/lib/python3.12/site-packages (1.5.2)\n",
      "Requirement already satisfied: xgboost in ./.venv/lib/python3.12/site-packages (2.1.1)\n",
      "Requirement already satisfied: numpy>=1.26.0 in ./.venv/lib/python3.12/site-packages (from pandas) (2.1.2)\n",
      "Requirement already satisfied: python-dateutil>=2.8.2 in ./.venv/lib/python3.12/site-packages (from pandas) (2.9.0.post0)\n",
      "Requirement already satisfied: pytz>=2020.1 in ./.venv/lib/python3.12/site-packages (from pandas) (2024.2)\n",
      "Requirement already satisfied: tzdata>=2022.7 in ./.venv/lib/python3.12/site-packages (from pandas) (2024.2)\n",
      "Requirement already satisfied: scipy>=1.6.0 in ./.venv/lib/python3.12/site-packages (from scikit-learn) (1.14.1)\n",
      "Requirement already satisfied: joblib>=1.2.0 in ./.venv/lib/python3.12/site-packages (from scikit-learn) (1.4.2)\n",
      "Requirement already satisfied: threadpoolctl>=3.1.0 in ./.venv/lib/python3.12/site-packages (from scikit-learn) (3.5.0)\n",
      "Requirement already satisfied: six>=1.5 in ./.venv/lib/python3.12/site-packages (from python-dateutil>=2.8.2->pandas) (1.16.0)\n",
      "Note: you may need to restart the kernel to use updated packages.\n"
     ]
    }
   ],
   "source": [
    "pip install pandas scikit-learn xgboost"
   ]
  },
  {
   "cell_type": "code",
   "execution_count": 1,
   "metadata": {},
   "outputs": [],
   "source": [
    "import pandas as pd\n",
    "import numpy as np\n",
    "from sklearn.model_selection import train_test_split, cross_val_score\n",
    "from sklearn.ensemble import RandomForestRegressor\n",
    "from sklearn.metrics import mean_squared_error, mean_absolute_error\n",
    "import xgboost as xgb"
   ]
  },
  {
   "cell_type": "code",
   "execution_count": 2,
   "metadata": {},
   "outputs": [
    {
     "name": "stdout",
     "output_type": "stream",
     "text": [
      "         name           team     opponent_team        date  was_home position  \\\n",
      "0  Ryan Yates  Nott'm Forest  Newcastle United         NaN     False      NaN   \n",
      "1  Ryan Yates  Nott'm Forest       Aston Villa  2022-10-10      True       MC   \n",
      "2  Ryan Yates  Nott'm Forest     Wolverhampton  2022-10-15     False       MC   \n",
      "3  Ryan Yates  Nott'm Forest          Brighton  2022-10-18     False       MC   \n",
      "4  Ryan Yates  Nott'm Forest         Liverpool  2022-10-22      True       MC   \n",
      "\n",
      "   minutes  goals    xG  assists  ...  last_season_assists  last_season_xG  \\\n",
      "0        0    NaN   NaN      NaN  ...                  0.0             0.0   \n",
      "1       90    0.0  0.00      0.0  ...                  0.0             0.0   \n",
      "2       90    0.0  0.14      0.0  ...                  0.0             0.0   \n",
      "3       90    0.0  0.08      0.0  ...                  0.0             0.0   \n",
      "4       90    0.0  0.44      0.0  ...                  0.0             0.0   \n",
      "\n",
      "   last_season_xA  last_season_points_per_minute  next_week_points  \\\n",
      "0             0.0                            0.0               1.0   \n",
      "1             0.0                            0.0               2.0   \n",
      "2             0.0                            0.0               3.0   \n",
      "3             0.0                            0.0               3.0   \n",
      "4             0.0                            0.0               2.0   \n",
      "\n",
      "       next_team  next_was_home  next_opponent_team  \\\n",
      "0  Nott'm Forest           True         Aston Villa   \n",
      "1  Nott'm Forest          False       Wolverhampton   \n",
      "2  Nott'm Forest          False            Brighton   \n",
      "3  Nott'm Forest           True           Liverpool   \n",
      "4  Nott'm Forest          False             Arsenal   \n",
      "\n",
      "   next_week_fixture_difficulty  next_week_specific_fixture_difficulty  \n",
      "0                         -2.76                                    NaN  \n",
      "1                          0.48                                    NaN  \n",
      "2                          1.21                                    NaN  \n",
      "3                         -1.05                                    NaN  \n",
      "4                          1.87                                    NaN  \n",
      "\n",
      "[5 rows x 33 columns]\n"
     ]
    }
   ],
   "source": [
    "# Load your dataset\n",
    "df = pd.read_csv('../train_data/midfielder.csv')\n",
    "\n",
    "# Preview the data to ensure everything looks right\n",
    "print(df.head())\n",
    "\n",
    "# Check for any missing values and handle them (if any)\n",
    "df.fillna(0, inplace=True)  # Simple way to handle missing values"
   ]
  },
  {
   "cell_type": "code",
   "execution_count": 3,
   "metadata": {},
   "outputs": [],
   "source": [
    "# Define the feature columns you want to use for predictions\n",
    "features = [\n",
    "    'goals_conceded', 'clean_sheets', 'minutes','goals','xG','assists','xA','total_points','shots','key_passes','ict_index','bonus', 'starts','form','xG&A_form','minutes_per_game','last_season_goals','last_season_assists','last_season_xG','last_season_xA','last_season_points_per_minute','next_week_specific_fixture_difficulty'\n",
    "]\n",
    "\n",
    "# Define the target column (points scored in the next gameweek)\n",
    "target = 'next_week_points'\n",
    "\n",
    "# Split the dataset into features (X) and target (y)\n",
    "X = df[features]\n",
    "y = df[target]\n",
    "\n",
    "# Split the data into training and test sets\n",
    "X_train, X_test, y_train, y_test = train_test_split(X, y, test_size=0.2, random_state=42)"
   ]
  },
  {
   "cell_type": "code",
   "execution_count": 4,
   "metadata": {},
   "outputs": [
    {
     "name": "stdout",
     "output_type": "stream",
     "text": [
      "Random Forest MSE: 4.636893737201241\n",
      "Random Forest MAE: 1.143888275069021\n"
     ]
    }
   ],
   "source": [
    "# Initialize and train the Random Forest model\n",
    "rf_model = RandomForestRegressor(n_estimators=100, random_state=42)\n",
    "rf_model.fit(X_train, y_train)\n",
    "\n",
    "# Make predictions on the test set\n",
    "rf_predictions = rf_model.predict(X_test)\n",
    "\n",
    "# Evaluate the model's performance\n",
    "rf_mse = mean_squared_error(y_test, rf_predictions)\n",
    "rf_mae = mean_absolute_error(y_test, rf_predictions)\n",
    "\n",
    "print(f\"Random Forest MSE: {rf_mse}\")\n",
    "print(f\"Random Forest MAE: {rf_mae}\")"
   ]
  },
  {
   "cell_type": "code",
   "execution_count": 5,
   "metadata": {},
   "outputs": [
    {
     "name": "stdout",
     "output_type": "stream",
     "text": [
      "XGBoost MSE: 4.5027528906410685\n",
      "XGBoost MAE: 1.1106957341508978\n"
     ]
    }
   ],
   "source": [
    "# Initialize and train the XGBoost model\n",
    "xgb_model = xgb.XGBRegressor(n_estimators=100, learning_rate=0.1, max_depth=5, random_state=42)\n",
    "xgb_model.fit(X_train, y_train)\n",
    "\n",
    "# Make predictions on the test set\n",
    "xgb_predictions = xgb_model.predict(X_test)\n",
    "\n",
    "# Evaluate the model's performance\n",
    "xgb_mse = mean_squared_error(y_test, xgb_predictions)\n",
    "xgb_mae = mean_absolute_error(y_test, xgb_predictions)\n",
    "\n",
    "print(f\"XGBoost MSE: {xgb_mse}\")\n",
    "print(f\"XGBoost MAE: {xgb_mae}\")"
   ]
  },
  {
   "cell_type": "code",
   "execution_count": 6,
   "metadata": {},
   "outputs": [
    {
     "name": "stdout",
     "output_type": "stream",
     "text": [
      "                                  feature  importance\n",
      "2                                 minutes    0.277404\n",
      "15                       minutes_per_game    0.125910\n",
      "13                                   form    0.086073\n",
      "10                              ict_index    0.074186\n",
      "14                              xG&A_form    0.070225\n",
      "21  next_week_specific_fixture_difficulty    0.046786\n",
      "19                         last_season_xA    0.042515\n",
      "4                                      xG    0.038336\n",
      "6                                      xA    0.038312\n",
      "18                         last_season_xG    0.034328\n",
      "7                            total_points    0.026215\n",
      "0                          goals_conceded    0.023024\n",
      "17                    last_season_assists    0.022406\n",
      "16                      last_season_goals    0.021207\n",
      "20          last_season_points_per_minute    0.018195\n",
      "8                                   shots    0.017870\n",
      "9                              key_passes    0.013187\n",
      "12                                 starts    0.008007\n",
      "1                            clean_sheets    0.005552\n",
      "11                                  bonus    0.003935\n",
      "5                                 assists    0.003916\n",
      "3                                   goals    0.002412\n",
      "                                  feature  importance\n",
      "2                                 minutes    0.393677\n",
      "13                                   form    0.060667\n",
      "19                         last_season_xA    0.049721\n",
      "15                       minutes_per_game    0.044831\n",
      "1                            clean_sheets    0.041417\n",
      "10                              ict_index    0.039879\n",
      "17                    last_season_assists    0.033121\n",
      "14                              xG&A_form    0.033044\n",
      "16                      last_season_goals    0.030782\n",
      "20          last_season_points_per_minute    0.028529\n",
      "5                                 assists    0.027291\n",
      "21  next_week_specific_fixture_difficulty    0.026067\n",
      "18                         last_season_xG    0.025001\n",
      "6                                      xA    0.023711\n",
      "7                            total_points    0.023184\n",
      "8                                   shots    0.021845\n",
      "4                                      xG    0.020509\n",
      "12                                 starts    0.019999\n",
      "9                              key_passes    0.018880\n",
      "11                                  bonus    0.018352\n",
      "0                          goals_conceded    0.012396\n",
      "3                                   goals    0.007096\n"
     ]
    }
   ],
   "source": [
    "# Feature importance for Random Forest\n",
    "rf_feature_importance = rf_model.feature_importances_\n",
    "rf_importance_df = pd.DataFrame({\n",
    "    'feature': X_train.columns,\n",
    "    'importance': rf_feature_importance\n",
    "}).sort_values(by='importance', ascending=False)\n",
    "\n",
    "print(rf_importance_df)\n",
    "\n",
    "# Feature importance for XGBoost\n",
    "xgb_feature_importance = xgb_model.feature_importances_\n",
    "xgb_importance_df = pd.DataFrame({\n",
    "    'feature': X_train.columns,\n",
    "    'importance': xgb_feature_importance\n",
    "}).sort_values(by='importance', ascending=False)\n",
    "\n",
    "print(xgb_importance_df)"
   ]
  }
 ],
 "metadata": {
  "kernelspec": {
   "display_name": ".venv",
   "language": "python",
   "name": "python3"
  },
  "language_info": {
   "codemirror_mode": {
    "name": "ipython",
    "version": 3
   },
   "file_extension": ".py",
   "mimetype": "text/x-python",
   "name": "python",
   "nbconvert_exporter": "python",
   "pygments_lexer": "ipython3",
   "version": "3.12.1"
  }
 },
 "nbformat": 4,
 "nbformat_minor": 2
}
